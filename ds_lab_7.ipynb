{
  "cells": [
    {
      "cell_type": "markdown",
      "metadata": {
        "id": "view-in-github",
        "colab_type": "text"
      },
      "source": [
        "<a href=\"https://colab.research.google.com/github/Ajit619/myproject/blob/main/ds_lab_7.ipynb\" target=\"_parent\"><img src=\"https://colab.research.google.com/assets/colab-badge.svg\" alt=\"Open In Colab\"/></a>"
      ]
    },
    {
      "cell_type": "code",
      "execution_count": null,
      "id": "97a2b686",
      "metadata": {
        "id": "97a2b686"
      },
      "outputs": [],
      "source": [
        "import nltk\n",
        "nltk.download(\"popular\")"
      ]
    },
    {
      "cell_type": "code",
      "execution_count": 3,
      "id": "7c95b19b",
      "metadata": {
        "colab": {
          "base_uri": "https://localhost:8080/",
          "height": 0
        },
        "id": "7c95b19b",
        "outputId": "507ef3b9-2b67-4f2e-fbea-d61883742126"
      },
      "outputs": [
        {
          "output_type": "stream",
          "name": "stdout",
          "text": [
            "['Performing', 'DS', '&', 'BDA', 'practicle', 'in', 'given', 'time', 'slot']\n"
          ]
        }
      ],
      "source": [
        "from nltk.tokenize import word_tokenize\n",
        "Text= \"Performing DS&BDA practicle in given time slot\"\n",
        "Token= word_tokenize(Text)\n",
        "print(Token)"
      ]
    },
    {
      "cell_type": "code",
      "execution_count": 4,
      "id": "34f7e71f",
      "metadata": {
        "colab": {
          "base_uri": "https://localhost:8080/",
          "height": 0
        },
        "id": "34f7e71f",
        "outputId": "71c37f76-e088-4d79-f2b2-af83fec36f86"
      },
      "outputs": [
        {
          "output_type": "stream",
          "name": "stdout",
          "text": [
            "['Performing DS&BDA practicle in given time slot']\n"
          ]
        }
      ],
      "source": [
        "from nltk.tokenize import sent_tokenize\n",
        "Text= \"Performing DS&BDA practicle in given time slot\"\n",
        "Token= sent_tokenize(Text)\n",
        "print(Token)"
      ]
    },
    {
      "cell_type": "code",
      "execution_count": 5,
      "id": "5d30c974",
      "metadata": {
        "colab": {
          "base_uri": "https://localhost:8080/",
          "height": 0
        },
        "id": "5d30c974",
        "outputId": "021c33db-fe67-477e-bb85-66a724e7eb4e"
      },
      "outputs": [
        {
          "output_type": "stream",
          "name": "stdout",
          "text": [
            "[nltk_data] Downloading package stopwords to /root/nltk_data...\n",
            "[nltk_data]   Package stopwords is already up-to-date!\n"
          ]
        },
        {
          "output_type": "execute_result",
          "data": {
            "text/plain": [
              "True"
            ]
          },
          "metadata": {},
          "execution_count": 5
        }
      ],
      "source": [
        "nltk.download('stopwords')"
      ]
    },
    {
      "cell_type": "code",
      "execution_count": 6,
      "id": "6e9e22b8",
      "metadata": {
        "colab": {
          "base_uri": "https://localhost:8080/",
          "height": 0
        },
        "id": "6e9e22b8",
        "outputId": "b660823e-2930-44c9-d5c7-d7002fa146ad"
      },
      "outputs": [
        {
          "output_type": "stream",
          "name": "stdout",
          "text": [
            "P\n",
            "e\n",
            "r\n",
            "f\n",
            "r\n",
            "n\n",
            "g\n",
            " \n",
            "D\n",
            "S\n",
            "&\n",
            "B\n",
            "D\n",
            "A\n",
            " \n",
            "p\n",
            "r\n",
            "c\n",
            "c\n",
            "l\n",
            "e\n",
            " \n",
            "n\n",
            " \n",
            "g\n",
            "v\n",
            "e\n",
            "n\n",
            " \n",
            "e\n",
            " \n",
            "l\n"
          ]
        }
      ],
      "source": [
        "from nltk.corpus import stopwords\n",
        "Text= \"Performing DS&BDA practicle in given time slot\"\n",
        "stopwords= stopwords.words(\"english\")\n",
        "for i in Text:\n",
        "    if i not in stopwords:\n",
        "        print(i)\n"
      ]
    },
    {
      "cell_type": "code",
      "execution_count": 7,
      "id": "f2e8900e",
      "metadata": {
        "colab": {
          "base_uri": "https://localhost:8080/",
          "height": 0
        },
        "id": "f2e8900e",
        "outputId": "04444793-317c-426e-8b90-d2918f41fdbe"
      },
      "outputs": [
        {
          "output_type": "stream",
          "name": "stdout",
          "text": [
            "['i', 'me', 'my', 'myself', 'we', 'our', 'ours', 'ourselves', 'you', \"you're\", \"you've\", \"you'll\", \"you'd\", 'your', 'yours', 'yourself', 'yourselves', 'he', 'him', 'his', 'himself', 'she', \"she's\", 'her', 'hers', 'herself', 'it', \"it's\", 'its', 'itself', 'they', 'them', 'their', 'theirs', 'themselves', 'what', 'which', 'who', 'whom', 'this', 'that', \"that'll\", 'these', 'those', 'am', 'is', 'are', 'was', 'were', 'be', 'been', 'being', 'have', 'has', 'had', 'having', 'do', 'does', 'did', 'doing', 'a', 'an', 'the', 'and', 'but', 'if', 'or', 'because', 'as', 'until', 'while', 'of', 'at', 'by', 'for', 'with', 'about', 'against', 'between', 'into', 'through', 'during', 'before', 'after', 'above', 'below', 'to', 'from', 'up', 'down', 'in', 'out', 'on', 'off', 'over', 'under', 'again', 'further', 'then', 'once', 'here', 'there', 'when', 'where', 'why', 'how', 'all', 'any', 'both', 'each', 'few', 'more', 'most', 'other', 'some', 'such', 'no', 'nor', 'not', 'only', 'own', 'same', 'so', 'than', 'too', 'very', 's', 't', 'can', 'will', 'just', 'don', \"don't\", 'should', \"should've\", 'now', 'd', 'll', 'm', 'o', 're', 've', 'y', 'ain', 'aren', \"aren't\", 'couldn', \"couldn't\", 'didn', \"didn't\", 'doesn', \"doesn't\", 'hadn', \"hadn't\", 'hasn', \"hasn't\", 'haven', \"haven't\", 'isn', \"isn't\", 'ma', 'mightn', \"mightn't\", 'mustn', \"mustn't\", 'needn', \"needn't\", 'shan', \"shan't\", 'shouldn', \"shouldn't\", 'wasn', \"wasn't\", 'weren', \"weren't\", 'won', \"won't\", 'wouldn', \"wouldn't\"]\n"
          ]
        }
      ],
      "source": [
        "from nltk.corpus import stopwords\n",
        "stopwords= stopwords.words(\"english\")\n",
        "print(stopwords)"
      ]
    },
    {
      "cell_type": "code",
      "execution_count": 8,
      "id": "2922681e",
      "metadata": {
        "colab": {
          "base_uri": "https://localhost:8080/",
          "height": 0
        },
        "id": "2922681e",
        "outputId": "291e88b8-ce53-40f8-ee5c-c161ce001067"
      },
      "outputs": [
        {
          "output_type": "stream",
          "name": "stdout",
          "text": [
            "perform\n",
            "develop\n",
            "assum\n"
          ]
        }
      ],
      "source": [
        "from nltk.stem import PorterStemmer\n",
        "Text= \"Performing\", \"Development\",\"Assuming\"\n",
        "ps= PorterStemmer()\n",
        "for i in Text:\n",
        "    print(ps.stem(i))"
      ]
    },
    {
      "cell_type": "code",
      "execution_count": 9,
      "id": "6d0209f4",
      "metadata": {
        "colab": {
          "base_uri": "https://localhost:8080/",
          "height": 0
        },
        "id": "6d0209f4",
        "outputId": "d03f385f-e2ea-4cfc-f810-db184bc513ed"
      },
      "outputs": [
        {
          "output_type": "stream",
          "name": "stdout",
          "text": [
            "Performing --- 2\n",
            "Development --- 2\n",
            "Assuming --- 2\n"
          ]
        }
      ],
      "source": [
        "import nltk\n",
        "Text= [\"Performing\", \"Development\",\"Assuming\",\"Performing\", \"Development\",\"Assuming\"]\n",
        "FreqDist=nltk.FreqDist(Text)\n",
        "for i,j in FreqDist.items():\n",
        " print(i,\"---\",j)\n"
      ]
    },
    {
      "cell_type": "code",
      "execution_count": 9,
      "id": "1839b2d2",
      "metadata": {
        "id": "1839b2d2"
      },
      "outputs": [],
      "source": [
        ""
      ]
    }
  ],
  "metadata": {
    "kernelspec": {
      "display_name": "Python 3 (ipykernel)",
      "language": "python",
      "name": "python3"
    },
    "language_info": {
      "codemirror_mode": {
        "name": "ipython",
        "version": 3
      },
      "file_extension": ".py",
      "mimetype": "text/x-python",
      "name": "python",
      "nbconvert_exporter": "python",
      "pygments_lexer": "ipython3",
      "version": "3.8.5"
    },
    "colab": {
      "name": "ds lab 7.ipynb",
      "provenance": [],
      "include_colab_link": true
    }
  },
  "nbformat": 4,
  "nbformat_minor": 5
}