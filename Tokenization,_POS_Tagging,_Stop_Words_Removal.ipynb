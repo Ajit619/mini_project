{
  "cells": [
    {
      "cell_type": "markdown",
      "metadata": {
        "id": "view-in-github",
        "colab_type": "text"
      },
      "source": [
        "<a href=\"https://colab.research.google.com/github/Ajit619/myproject/blob/main/Tokenization%2C_POS_Tagging%2C_Stop_Words_Removal.ipynb\" target=\"_parent\"><img src=\"https://colab.research.google.com/assets/colab-badge.svg\" alt=\"Open In Colab\"/></a>"
      ]
    },
    {
      "cell_type": "code",
      "execution_count": null,
      "id": "a324537e",
      "metadata": {
        "id": "a324537e"
      },
      "outputs": [],
      "source": [
        "text=\"\"\"hi this is a sample text\n",
        "  performing text analytics\"\"\""
      ]
    },
    {
      "cell_type": "code",
      "execution_count": null,
      "id": "7c3750db",
      "metadata": {
        "id": "7c3750db",
        "outputId": "c7639adf-816d-4a9b-eef0-929f35830090"
      },
      "outputs": [
        {
          "name": "stderr",
          "output_type": "stream",
          "text": [
            "[nltk_data] Downloading package punkt to\n",
            "[nltk_data]     C:\\Users\\sharm\\AppData\\Roaming\\nltk_data...\n",
            "[nltk_data]   Unzipping tokenizers\\punkt.zip.\n",
            "[nltk_data] Downloading package stopwords to\n",
            "[nltk_data]     C:\\Users\\sharm\\AppData\\Roaming\\nltk_data...\n",
            "[nltk_data]   Unzipping corpora\\stopwords.zip.\n",
            "[nltk_data] Downloading package wordnet to\n",
            "[nltk_data]     C:\\Users\\sharm\\AppData\\Roaming\\nltk_data...\n",
            "[nltk_data]   Unzipping corpora\\wordnet.zip.\n",
            "[nltk_data] Downloading package omw-1.4 to\n",
            "[nltk_data]     C:\\Users\\sharm\\AppData\\Roaming\\nltk_data...\n",
            "[nltk_data]   Unzipping corpora\\omw-1.4.zip.\n",
            "[nltk_data] Downloading package averaged_perceptron_tagger to\n",
            "[nltk_data]     C:\\Users\\sharm\\AppData\\Roaming\\nltk_data...\n",
            "[nltk_data]   Unzipping taggers\\averaged_perceptron_tagger.zip.\n"
          ]
        },
        {
          "data": {
            "text/plain": [
              "True"
            ]
          },
          "execution_count": 2,
          "metadata": {},
          "output_type": "execute_result"
        }
      ],
      "source": [
        "import nltk\n",
        "nltk.download('punkt')\n",
        "nltk.download('stopwords')\n",
        "nltk.download('wordnet')\n",
        "nltk.download('omw-1.4')\n",
        "nltk.download('averaged_perceptron_tagger')"
      ]
    },
    {
      "cell_type": "code",
      "execution_count": null,
      "id": "179414e3",
      "metadata": {
        "id": "179414e3"
      },
      "outputs": [],
      "source": [
        "from nltk.tokenize import sent_tokenize,word_tokenize\n"
      ]
    },
    {
      "cell_type": "code",
      "execution_count": null,
      "id": "8c13266e",
      "metadata": {
        "id": "8c13266e",
        "outputId": "04dc2440-b4bb-442c-bbee-8a133797870d"
      },
      "outputs": [
        {
          "data": {
            "text/plain": [
              "['hi this is a sample text\\n  performing text analytics']"
            ]
          },
          "execution_count": 4,
          "metadata": {},
          "output_type": "execute_result"
        }
      ],
      "source": [
        "tokenized_text=sent_tokenize(text, language=\"english\")\n",
        "tokenized_text"
      ]
    },
    {
      "cell_type": "code",
      "execution_count": null,
      "id": "6dabd76e",
      "metadata": {
        "id": "6dabd76e",
        "outputId": "9de226ab-324c-4250-8290-6fdcd047b73a"
      },
      "outputs": [
        {
          "data": {
            "text/plain": [
              "['hi', 'this', 'is', 'a', 'sample', 'text', 'performing', 'text', 'analytics']"
            ]
          },
          "execution_count": 5,
          "metadata": {},
          "output_type": "execute_result"
        }
      ],
      "source": [
        "word_text=word_tokenize(text)\n",
        "word_text"
      ]
    },
    {
      "cell_type": "code",
      "execution_count": null,
      "id": "721ec7c7",
      "metadata": {
        "id": "721ec7c7",
        "outputId": "af0f5da9-40db-48de-d3b1-325e32453853"
      },
      "outputs": [
        {
          "data": {
            "text/plain": [
              "{'a',\n",
              " 'about',\n",
              " 'above',\n",
              " 'after',\n",
              " 'again',\n",
              " 'against',\n",
              " 'ain',\n",
              " 'all',\n",
              " 'am',\n",
              " 'an',\n",
              " 'and',\n",
              " 'any',\n",
              " 'are',\n",
              " 'aren',\n",
              " \"aren't\",\n",
              " 'as',\n",
              " 'at',\n",
              " 'be',\n",
              " 'because',\n",
              " 'been',\n",
              " 'before',\n",
              " 'being',\n",
              " 'below',\n",
              " 'between',\n",
              " 'both',\n",
              " 'but',\n",
              " 'by',\n",
              " 'can',\n",
              " 'couldn',\n",
              " \"couldn't\",\n",
              " 'd',\n",
              " 'did',\n",
              " 'didn',\n",
              " \"didn't\",\n",
              " 'do',\n",
              " 'does',\n",
              " 'doesn',\n",
              " \"doesn't\",\n",
              " 'doing',\n",
              " 'don',\n",
              " \"don't\",\n",
              " 'down',\n",
              " 'during',\n",
              " 'each',\n",
              " 'few',\n",
              " 'for',\n",
              " 'from',\n",
              " 'further',\n",
              " 'had',\n",
              " 'hadn',\n",
              " \"hadn't\",\n",
              " 'has',\n",
              " 'hasn',\n",
              " \"hasn't\",\n",
              " 'have',\n",
              " 'haven',\n",
              " \"haven't\",\n",
              " 'having',\n",
              " 'he',\n",
              " 'her',\n",
              " 'here',\n",
              " 'hers',\n",
              " 'herself',\n",
              " 'him',\n",
              " 'himself',\n",
              " 'his',\n",
              " 'how',\n",
              " 'i',\n",
              " 'if',\n",
              " 'in',\n",
              " 'into',\n",
              " 'is',\n",
              " 'isn',\n",
              " \"isn't\",\n",
              " 'it',\n",
              " \"it's\",\n",
              " 'its',\n",
              " 'itself',\n",
              " 'just',\n",
              " 'll',\n",
              " 'm',\n",
              " 'ma',\n",
              " 'me',\n",
              " 'mightn',\n",
              " \"mightn't\",\n",
              " 'more',\n",
              " 'most',\n",
              " 'mustn',\n",
              " \"mustn't\",\n",
              " 'my',\n",
              " 'myself',\n",
              " 'needn',\n",
              " \"needn't\",\n",
              " 'no',\n",
              " 'nor',\n",
              " 'not',\n",
              " 'now',\n",
              " 'o',\n",
              " 'of',\n",
              " 'off',\n",
              " 'on',\n",
              " 'once',\n",
              " 'only',\n",
              " 'or',\n",
              " 'other',\n",
              " 'our',\n",
              " 'ours',\n",
              " 'ourselves',\n",
              " 'out',\n",
              " 'over',\n",
              " 'own',\n",
              " 're',\n",
              " 's',\n",
              " 'same',\n",
              " 'shan',\n",
              " \"shan't\",\n",
              " 'she',\n",
              " \"she's\",\n",
              " 'should',\n",
              " \"should've\",\n",
              " 'shouldn',\n",
              " \"shouldn't\",\n",
              " 'so',\n",
              " 'some',\n",
              " 'such',\n",
              " 't',\n",
              " 'than',\n",
              " 'that',\n",
              " \"that'll\",\n",
              " 'the',\n",
              " 'their',\n",
              " 'theirs',\n",
              " 'them',\n",
              " 'themselves',\n",
              " 'then',\n",
              " 'there',\n",
              " 'these',\n",
              " 'they',\n",
              " 'this',\n",
              " 'those',\n",
              " 'through',\n",
              " 'to',\n",
              " 'too',\n",
              " 'under',\n",
              " 'until',\n",
              " 'up',\n",
              " 've',\n",
              " 'very',\n",
              " 'was',\n",
              " 'wasn',\n",
              " \"wasn't\",\n",
              " 'we',\n",
              " 'were',\n",
              " 'weren',\n",
              " \"weren't\",\n",
              " 'what',\n",
              " 'when',\n",
              " 'where',\n",
              " 'which',\n",
              " 'while',\n",
              " 'who',\n",
              " 'whom',\n",
              " 'why',\n",
              " 'will',\n",
              " 'with',\n",
              " 'won',\n",
              " \"won't\",\n",
              " 'wouldn',\n",
              " \"wouldn't\",\n",
              " 'y',\n",
              " 'you',\n",
              " \"you'd\",\n",
              " \"you'll\",\n",
              " \"you're\",\n",
              " \"you've\",\n",
              " 'your',\n",
              " 'yours',\n",
              " 'yourself',\n",
              " 'yourselves'}"
            ]
          },
          "execution_count": 6,
          "metadata": {},
          "output_type": "execute_result"
        }
      ],
      "source": [
        "from nltk.corpus import stopwords\n",
        "stopw=set(stopwords.words('english'))\n",
        "stopw"
      ]
    },
    {
      "cell_type": "code",
      "execution_count": null,
      "id": "ec8fcf5e",
      "metadata": {
        "id": "ec8fcf5e",
        "outputId": "6c2e21c6-c2c9-4f84-f14c-77c4da27c6af"
      },
      "outputs": [
        {
          "name": "stdout",
          "output_type": "stream",
          "text": [
            "original text---> ['hi', 'this', 'is', 'a', 'sample', 'text', 'performing', 'text', 'analytics']\n",
            "FILTERED text---> ['hi', 'sample', 'text', 'performing', 'text', 'analytics']\n"
          ]
        }
      ],
      "source": [
        "filtered_words=[]\n",
        "for i in word_text:\n",
        "    if i not in stopw:\n",
        "        filtered_words.append(i)\n",
        "print(\"original text--->\",word_text)\n",
        "print(\"FILTERED text--->\",filtered_words)"
      ]
    },
    {
      "cell_type": "code",
      "execution_count": null,
      "id": "e5d4541e",
      "metadata": {
        "id": "e5d4541e",
        "outputId": "814a75fe-d660-482f-889d-6e5a908c75ae"
      },
      "outputs": [
        {
          "name": "stdout",
          "output_type": "stream",
          "text": [
            "original text---> ['hi', 'this', 'is', 'a', 'sample', 'text', 'performing', 'text', 'analytics']\n",
            "stemmed text---> ['hi', 'thi', 'is', 'a', 'sampl', 'text', 'perform', 'text', 'analyt']\n"
          ]
        }
      ],
      "source": [
        "from nltk.stem import PorterStemmer\n",
        "stem=PorterStemmer()\n",
        "stemmed_words=[]\n",
        "for i in word_text:\n",
        "    stemmed_words.append(stem.stem(i))\n",
        "print(\"original text--->\",word_text)\n",
        "print(\"stemmed text--->\",stemmed_words)"
      ]
    },
    {
      "cell_type": "code",
      "execution_count": null,
      "id": "3b4d3c65",
      "metadata": {
        "id": "3b4d3c65",
        "outputId": "7ee31acc-9579-4dd6-bf20-0cac2cbe7de3"
      },
      "outputs": [
        {
          "name": "stdout",
          "output_type": "stream",
          "text": [
            "original text ['hi', 'this', 'is', 'a', 'sample', 'text', 'performing', 'text', 'analytics']\n",
            "lm text ['hi', 'this', 'be', 'a', 'sample', 'text', 'perform', 'text', 'analytics']\n"
          ]
        }
      ],
      "source": [
        "from nltk.stem.wordnet import WordNetLemmatizer\n",
        "lm=WordNetLemmatizer()\n",
        "lm_word=[]\n",
        "for i in word_text:\n",
        "    lm_word.append(lm.lemmatize(i,'v'))\n",
        "print('original text',word_text)\n",
        "print('lm text',lm_word)"
      ]
    },
    {
      "cell_type": "code",
      "execution_count": null,
      "id": "d95df659",
      "metadata": {
        "id": "d95df659",
        "outputId": "1e2538c0-f52b-47b4-c4b3-c47139f3dd41"
      },
      "outputs": [
        {
          "name": "stdout",
          "output_type": "stream",
          "text": [
            "['hi', 'this', 'is', 'a', 'sample', 'text', 'performing', 'text', 'analytics']\n"
          ]
        },
        {
          "data": {
            "text/plain": [
              "[('hi', 'NN'),\n",
              " ('this', 'DT'),\n",
              " ('is', 'VBZ'),\n",
              " ('a', 'DT'),\n",
              " ('sample', 'JJ'),\n",
              " ('text', 'NN'),\n",
              " ('performing', 'VBG'),\n",
              " ('text', 'NN'),\n",
              " ('analytics', 'NNS')]"
            ]
          },
          "execution_count": 10,
          "metadata": {},
          "output_type": "execute_result"
        }
      ],
      "source": [
        "print(word_text)\n",
        "nltk.pos_tag(word_text)"
      ]
    },
    {
      "cell_type": "code",
      "execution_count": null,
      "id": "96ec1883",
      "metadata": {
        "id": "96ec1883",
        "outputId": "db391361-8e58-4f37-c236-12f0a58a843e"
      },
      "outputs": [
        {
          "name": "stdout",
          "output_type": "stream",
          "text": [
            "\n",
            "idf values:\n",
            "college : 1.6931471805599454\n",
            "engineering : 1.6931471805599454\n",
            "of : 1.6931471805599454\n",
            "research : 1.6931471805599454\n",
            "zeal : 1.6931471805599454\n"
          ]
        }
      ],
      "source": [
        "d0='ZEAL COLLEGE'\n",
        "d1=\"OF ENGINEERING\"\n",
        "d2='RESEARCH'\n",
        "string=[d0,d1,d2]\n",
        "from sklearn.feature_extraction.text import TfidfVectorizer\n",
        "model=TfidfVectorizer()\n",
        "result=model.fit_transform(string)\n",
        "print('\\nidf values:')\n",
        "for ele1, ele2 in zip(model.get_feature_names(), model.idf_):\n",
        "    print(ele1, ':', ele2)\n"
      ]
    },
    {
      "cell_type": "code",
      "execution_count": null,
      "id": "489b5632",
      "metadata": {
        "id": "489b5632"
      },
      "outputs": [],
      "source": [
        ""
      ]
    }
  ],
  "metadata": {
    "kernelspec": {
      "display_name": "Python 3 (ipykernel)",
      "language": "python",
      "name": "python3"
    },
    "language_info": {
      "codemirror_mode": {
        "name": "ipython",
        "version": 3
      },
      "file_extension": ".py",
      "mimetype": "text/x-python",
      "name": "python",
      "nbconvert_exporter": "python",
      "pygments_lexer": "ipython3",
      "version": "3.8.5"
    },
    "colab": {
      "name": "Tokenization, POS Tagging, Stop Words Removal.ipynb",
      "provenance": [],
      "include_colab_link": true
    }
  },
  "nbformat": 4,
  "nbformat_minor": 5
}